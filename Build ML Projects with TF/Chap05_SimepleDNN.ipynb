{
 "cells": [
  {
   "cell_type": "markdown",
   "metadata": {},
   "source": [
    "## 非线性数据回归测试"
   ]
  },
  {
   "cell_type": "code",
   "execution_count": 1,
   "metadata": {},
   "outputs": [
    {
     "name": "stderr",
     "output_type": "stream",
     "text": [
      "C:\\ProgramData\\Anaconda3\\lib\\site-packages\\h5py\\__init__.py:36: FutureWarning: Conversion of the second argument of issubdtype from `float` to `np.floating` is deprecated. In future, it will be treated as `np.float64 == np.dtype(float).type`.\n",
      "  from ._conv import register_converters as _register_converters\n"
     ]
    }
   ],
   "source": [
    "import tensorflow as tf\n",
    "import numpy as np\n",
    "from sklearn.utils import shuffle\n",
    "import matplotlib.pyplot as plt"
   ]
  },
  {
   "cell_type": "code",
   "execution_count": 3,
   "metadata": {},
   "outputs": [],
   "source": [
    "train_samples = 200\n",
    "test_samples = 60\n",
    "total_samples = train_samples + test_samples\n",
    "epochs = 100"
   ]
  },
  {
   "cell_type": "code",
   "execution_count": 4,
   "metadata": {},
   "outputs": [],
   "source": [
    "def model(X, hidden_weights, hidden_bias, ow):\n",
    "    Z = X @ hidden_weights + hidden_bias\n",
    "    A = tf.nn.sigmoid(Z)\n",
    "    return A @ ow"
   ]
  },
  {
   "cell_type": "code",
   "execution_count": 8,
   "metadata": {},
   "outputs": [],
   "source": [
    "dsX = np.linspace(-1, 1, total_samples).reshape(-1, 1)\n",
    "dsY = 0.4 * np.power(dsX, 2) + 2 * dsX + 0.8 + np.random.randn(*dsX.shape) * 0.22\n",
    "\n",
    "dsX, dsY = shuffle(dsX, dsY)\n",
    "\n",
    "trainX, trainY = dsX[: train_samples, :], dsY[: train_samples, :]\n",
    "testX, testY = dsX[train_samples: total_samples, :], dsY[train_samples: total_samples, :]"
   ]
  },
  {
   "cell_type": "code",
   "execution_count": 6,
   "metadata": {},
   "outputs": [
    {
     "data": {
      "image/png": "[encoded data removed]",
      "text/plain": [
       "<Figure size 432x288 with 1 Axes>"
      ]
     },
     "metadata": {},
     "output_type": "display_data"
    }
   ],
   "source": [
    "plt.figure()\n",
    "plt.title(\"Original Data\")\n",
    "plt.scatter(dsX, dsY)\n",
    "plt.show()"
   ]
  },
  {
   "cell_type": "code",
   "execution_count": 11,
   "metadata": {},
   "outputs": [
    {
     "name": "stdout",
     "output_type": "stream",
     "text": [
      "epoch: 0, test_mse: 0.0784\n",
      "epoch: 10, test_mse: 0.0459\n",
      "epoch: 20, test_mse: 0.0414\n",
      "epoch: 30, test_mse: 0.0476\n",
      "epoch: 40, test_mse: 0.0429\n",
      "epoch: 50, test_mse: 0.0517\n",
      "epoch: 60, test_mse: 0.0459\n",
      "epoch: 70, test_mse: 0.0478\n",
      "epoch: 80, test_mse: 0.0440\n",
      "epoch: 90, test_mse: 0.0449\n",
      "epoch: 99, test_mse: 0.0458\n"
     ]
    }
   ],
   "source": [
    "tf.reset_default_graph()\n",
    "\n",
    "X = tf.placeholder(dtype=tf.float32, shape=[None, 1])\n",
    "Y = tf.placeholder(dtype=tf.float32, shape=[None, 1])\n",
    "\n",
    "hw1 = tf.Variable(tf.random_normal(shape=[1, 10], dtype=tf.float32))\n",
    "b = tf.Variable(tf.random_normal(shape=[1, 10], dtype=tf.float32))\n",
    "ow = tf.Variable(tf.random_normal(shape=[10, 1]), dtype=tf.float32)\n",
    "\n",
    "Y_ = model(X, hw1, b, ow)\n",
    "cost = tf.reduce_mean(tf.pow(Y_ - Y, 2), axis=0)\n",
    "\n",
    "train_op = tf.train.GradientDescentOptimizer(0.05).minimize(cost)\n",
    "init = tf.global_variables_initializer()\n",
    "\n",
    "gpu_options = tf.GPUOptions(per_process_gpu_memory_fraction=0.333)\n",
    "sess = tf.Session(config=tf.ConfigProto(gpu_options=gpu_options))\n",
    "\n",
    "sess.run(init)\n",
    "for epoch in range(epochs):\n",
    "    trainX, trainY = shuffle(trainX, trainY)\n",
    "    for x1, y1 in zip(trainX, trainY):\n",
    "        sess.run(train_op, feed_dict={X: x1.reshape(1, 1), Y: y1.reshape(1, 1)})\n",
    "    cost_ = sess.run(cost, feed_dict={X: testX, Y: testY})\n",
    "    if epoch % 10 == 0 or epoch == epochs - 1:\n",
    "        print(\"epoch: %d, test_mse: %.4f\" % (epoch, cost_))\n",
    "\n",
    "sess.close()"
   ]
  },
  {
   "cell_type": "markdown",
   "metadata": {},
   "source": [
    "## 非线性回归预测汽车燃烧效率"
   ]
  },
  {
   "cell_type": "code",
   "execution_count": 3,
   "metadata": {},
   "outputs": [],
   "source": [
    "import matplotlib.pyplot as plt\n",
    "import pandas as pd\n",
    "import numpy as np\n",
    "import tensorflow as tf\n",
    "from sklearn.model_selection import train_test_split\n",
    "from sklearn.preprocessing import StandardScaler\n",
    "import tensorflow.contrib.learn as skflow\n",
    "path = \"F:/for learn/Python/Building-Machine-Learning-Projects-with-TensorFlow-master/5/data/\""
   ]
  },
  {
   "cell_type": "code",
   "execution_count": 10,
   "metadata": {},
   "outputs": [],
   "source": [
    "df = pd.read_csv(path + \"mpg.csv\")\n",
    "feature_columns = [\"cylinders\", \"displacement\", \"horsepower\", \"weight\", \"acceleration\", \"model_year\", \"origin\"]\n",
    "\n",
    "X = df[feature_columns]\n",
    "y = df[\"mpg\"]"
   ]
  },
  {
   "cell_type": "code",
   "execution_count": 6,
   "metadata": {},
   "outputs": [],
   "source": [
    "X_train, X_test, y_train, y_test = train_test_split(X, y, test_size=0.25)"
   ]
  },
  {
   "cell_type": "code",
   "execution_count": 7,
   "metadata": {},
   "outputs": [],
   "source": [
    "ss = StandardScaler()\n",
    "X_train = ss.fit_transform(X_train)\n",
    "X_test = ss.transform(X_test)"
   ]
  },
  {
   "cell_type": "code",
   "execution_count": 9,
   "metadata": {},
   "outputs": [],
   "source": [
    "opt = tf.train.GradientDescentOptimizer(0.051)"
   ]
  },
  {
   "cell_type": "code",
   "execution_count": 14,
   "metadata": {},
   "outputs": [],
   "source": [
    "feature_cols = [tf.contrib.layers.real_valued_column(k) for k in feature_columns]\n",
    "model_dir = \"C:/Users/Cigar/Documents/jupyter/Tensorflow_learn/Build ML Projects with TF/Chap05_save/\""
   ]
  },
  {
   "cell_type": "code",
   "execution_count": 15,
   "metadata": {},
   "outputs": [
    {
     "name": "stdout",
     "output_type": "stream",
     "text": [
      "INFO:tensorflow:Using default config.\n",
      "INFO:tensorflow:Using config: {'_task_type': None, '_task_id': 0, '_cluster_spec': <tensorflow.python.training.server_lib.ClusterSpec object at 0x0000023CD1C5BA90>, '_master': '', '_num_ps_replicas': 0, '_num_worker_replicas': 0, '_environment': 'local', '_is_chief': True, '_evaluation_master': '', '_tf_config': gpu_options {\n",
      "  per_process_gpu_memory_fraction: 1.0\n",
      "}\n",
      ", '_tf_random_seed': None, '_save_summary_steps': 100, '_save_checkpoints_secs': 600, '_log_step_count_steps': 100, '_session_config': None, '_save_checkpoints_steps': None, '_keep_checkpoint_max': 5, '_keep_checkpoint_every_n_hours': 10000, '_model_dir': 'C:/Users/Cigar/Documents/jupyter/Tensorflow_learn/Build ML Projects with TF/Chap05_save/'}\n"
     ]
    }
   ],
   "source": [
    "regressor = skflow.DNNRegressor(hidden_units=[10, 5], \n",
    "                                feature_columns=feature_cols, \n",
    "                                model_dir=model_dir)"
   ]
  },
  {
   "cell_type": "code",
   "execution_count": null,
   "metadata": {},
   "outputs": [],
   "source": []
  }
 ],
 "metadata": {
  "kernelspec": {
   "display_name": "Python 3",
   "language": "python",
   "name": "python3"
  },
  "language_info": {
   "codemirror_mode": {
    "name": "ipython",
    "version": 3
   },
   "file_extension": ".py",
   "mimetype": "text/x-python",
   "name": "python",
   "nbconvert_exporter": "python",
   "pygments_lexer": "ipython3",
   "version": "3.6.5"
  }
 },
 "nbformat": 4,
 "nbformat_minor": 2
}
