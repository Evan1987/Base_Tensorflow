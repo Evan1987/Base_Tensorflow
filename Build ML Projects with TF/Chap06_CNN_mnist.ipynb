{
 "cells": [
  {
   "cell_type": "code",
   "execution_count": 2,
   "metadata": {},
   "outputs": [],
   "source": [
    "import tensorflow as tf\n",
    "import numpy as np\n",
    "import matplotlib.pyplot as plt\n",
    "from tensorflow.examples.tutorials.mnist import input_data"
   ]
  },
  {
   "cell_type": "code",
   "execution_count": 3,
   "metadata": {},
   "outputs": [
    {
     "name": "stdout",
     "output_type": "stream",
     "text": [
      "Extracting MNIST_data/train-images-idx3-ubyte.gz\n",
      "Extracting MNIST_data/train-labels-idx1-ubyte.gz\n",
      "Extracting MNIST_data/t10k-images-idx3-ubyte.gz\n",
      "Extracting MNIST_data/t10k-labels-idx1-ubyte.gz\n"
     ]
    }
   ],
   "source": [
    "mnist = input_data.read_data_sets(\"MNIST_data/\", one_hot=True)"
   ]
  },
  {
   "cell_type": "code",
   "execution_count": 4,
   "metadata": {},
   "outputs": [
    {
     "data": {
      "text/plain": [
       "<matplotlib.image.AxesImage at 0x2955348cb38>"
      ]
     },
     "execution_count": 4,
     "metadata": {},
     "output_type": "execute_result"
    },
    {
     "data": {
      "image/png": "[encoded data removed]",
      "text/plain": [
       "<Figure size 432x288 with 1 Axes>"
      ]
     },
     "metadata": {},
     "output_type": "display_data"
    }
   ],
   "source": [
    "plt.imshow(mnist.train.images[1200, :].reshape(28, 28))"
   ]
  },
  {
   "cell_type": "code",
   "execution_count": 114,
   "metadata": {},
   "outputs": [],
   "source": [
    "learning_rate = 0.0001\n",
    "epochs = 2000\n",
    "batch_size = 100\n",
    "display_step = 100\n",
    "\n",
    "n_input = 784\n",
    "n_classes = 10"
   ]
  },
  {
   "cell_type": "code",
   "execution_count": 115,
   "metadata": {},
   "outputs": [],
   "source": [
    "tf.reset_default_graph()\n",
    "\n",
    "X = tf.placeholder(dtype=tf.float32, shape=[None, n_input])\n",
    "y = tf.placeholder(dtype=tf.float32, shape=[None, n_classes])\n",
    "keep_prob = tf.placeholder(dtype=tf.float32)"
   ]
  },
  {
   "cell_type": "code",
   "execution_count": 116,
   "metadata": {},
   "outputs": [],
   "source": [
    "# 卷积函数\n",
    "# strides: NHWC 长度为 4 的列表： [batch, height, width, channel]\n",
    "def conv2d(x, W, b, strides=1):\n",
    "    \"\"\"Conv2d wrapper with bias and relu activation\"\"\"\n",
    "    x = tf.nn.conv2d(input=x, filter=W, strides=[1, strides, strides, 1], padding=\"SAME\")\n",
    "    x = tf.nn.bias_add(x, b)\n",
    "    return tf.nn.relu(x)\n",
    "\n",
    "# 最大池化函数：2*2像素 -> 1*1,保留灰度最大的像素\n",
    "def maxpool2d(x, size=2, strides=2):\n",
    "    \"\"\"MaxPool2d wrapper\"\"\"\n",
    "    ksize = [1, size, size, 1]\n",
    "    strides = [1, strides, strides, 1]\n",
    "    return tf.nn.max_pool(value=x, ksize=ksize, strides=strides, padding=\"SAME\")\n",
    "\n",
    "# 卷积网络构造函数\n",
    "# weights、biases 都是词典\n",
    "def conv_net(x, weights, biases, keep_prob):\n",
    "    # reshape input\n",
    "    x_image = tf.reshape(x, shape=[-1, 28, 28, 1])\n",
    "    \n",
    "    # conv layer 1 -> [-1, 28, 28, 32]\n",
    "    conv1 = conv2d(x_image, W=weights[\"wc1\"], b=biases[\"bc1\"], strides=1)\n",
    "    # max_pooling 1 -> [-1, 14, 14, 32]\n",
    "    pool1 = maxpool2d(conv1, size=2, strides=2)\n",
    "    \n",
    "    # conv layer 2 -> [-1, 14, 14, 64]\n",
    "    conv2 = conv2d(pool1, W=weights[\"wc2\"], b=biases[\"bc2\"], strides=1)\n",
    "    # max_pooling 2 -> [-1, 7, 7, 64]\n",
    "    pool2 = maxpool2d(conv2, size=2, strides=2)\n",
    "    \n",
    "    # FC [-1, 7 * 7 * 64] -> [-1, 1024]\n",
    "    x_image = tf.reshape(pool2, shape=[-1, weights[\"wd1\"].shape[0]])\n",
    "    fc1 = tf.nn.relu(x_image @ weights[\"wd1\"] + biases[\"bd1\"])\n",
    "    \n",
    "    # Dropout:\n",
    "    fc1_drop = tf.nn.dropout(fc1, keep_prob=keep_prob)\n",
    "    \n",
    "    # Output: [-1, 1024] -> [-1, 10]\n",
    "    out = fc1_drop @ weights[\"out\"] + biases[\"out\"]\n",
    "    return out    "
   ]
  },
  {
   "cell_type": "code",
   "execution_count": 117,
   "metadata": {},
   "outputs": [],
   "source": [
    "weights = {\n",
    "    \"wc1\": tf.Variable(tf.random_normal(shape=[5, 5, 1, 32])),\n",
    "    \"wc2\": tf.Variable(tf.random_normal(shape=[5, 5, 32, 64])),\n",
    "    \"wd1\": tf.Variable(tf.random_normal(shape=[7 * 7 * 64, 1024])),\n",
    "    \"out\": tf.Variable(tf.random_normal(shape=[1024, n_classes]))\n",
    "}\n",
    "\n",
    "biases = {\n",
    "    \"bc1\": tf.Variable(tf.random_normal(shape=[32])),\n",
    "    \"bc2\": tf.Variable(tf.random_normal(shape=[64])),\n",
    "    \"bd1\": tf.Variable(tf.random_normal(shape=[1024])),\n",
    "    \"out\": tf.Variable(tf.random_normal(shape=[n_classes]))\n",
    "}"
   ]
  },
  {
   "cell_type": "code",
   "execution_count": 118,
   "metadata": {},
   "outputs": [],
   "source": [
    "### 重要算子\n",
    "pred = conv_net(X, weights, biases, keep_prob)\n",
    "cross_entropy = tf.reduce_mean(tf.nn.softmax_cross_entropy_with_logits(logits=pred, labels=y))\n",
    "#cross_entropy = tf.reduce_mean(-tf.reduce_sum(y * tf.log(pred), axis=1), axis=0)  ## 指数计算容易计算溢出\n",
    "train_step = tf.train.AdamOptimizer(learning_rate=learning_rate).minimize(cross_entropy)\n",
    "acc = tf.reduce_mean(tf.cast(tf.equal(tf.argmax(y, axis=1), \n",
    "                                      tf.argmax(pred, axis=1)), \n",
    "                             dtype=tf.float32))\n",
    "init = tf.global_variables_initializer()\n",
    "\n",
    "### 测试集\n",
    "test_holder = {X: mnist.test.images[:1000, :], y: mnist.test.labels[:1000, :], keep_prob: 1.0}"
   ]
  },
  {
   "cell_type": "code",
   "execution_count": 119,
   "metadata": {},
   "outputs": [],
   "source": [
    "gpu_options = tf.GPUOptions(per_process_gpu_memory_fraction=0.8)\n",
    "sess = tf.Session(config=tf.ConfigProto(gpu_options=gpu_options))"
   ]
  },
  {
   "cell_type": "code",
   "execution_count": 120,
   "metadata": {},
   "outputs": [
    {
     "name": "stdout",
     "output_type": "stream",
     "text": [
      "epoch 0, test_acc: 0.0510, train_cost: 101871.0781\n",
      "epoch 100, test_acc: 0.3610, train_cost: 40971.6484\n",
      "epoch 200, test_acc: 0.5540, train_cost: 30495.3359\n",
      "epoch 300, test_acc: 0.6580, train_cost: 18602.6035\n",
      "epoch 400, test_acc: 0.7220, train_cost: 13381.7334\n",
      "epoch 500, test_acc: 0.7680, train_cost: 9402.9004\n",
      "epoch 600, test_acc: 0.7940, train_cost: 12025.6777\n",
      "epoch 700, test_acc: 0.8120, train_cost: 7133.4595\n",
      "epoch 800, test_acc: 0.8300, train_cost: 6089.6719\n",
      "epoch 900, test_acc: 0.8390, train_cost: 6699.2964\n",
      "epoch 1000, test_acc: 0.8560, train_cost: 4851.0200\n",
      "epoch 1100, test_acc: 0.8680, train_cost: 4641.5903\n",
      "epoch 1200, test_acc: 0.8720, train_cost: 4370.4956\n",
      "epoch 1300, test_acc: 0.8700, train_cost: 5747.7388\n",
      "epoch 1400, test_acc: 0.8910, train_cost: 4681.9971\n",
      "epoch 1500, test_acc: 0.8900, train_cost: 3001.6157\n",
      "epoch 1600, test_acc: 0.8960, train_cost: 2847.6460\n",
      "epoch 1700, test_acc: 0.8980, train_cost: 2133.0293\n",
      "epoch 1800, test_acc: 0.9000, train_cost: 2824.3245\n",
      "epoch 1900, test_acc: 0.9010, train_cost: 1638.9125\n"
     ]
    }
   ],
   "source": [
    "sess.run(init)\n",
    "for epoch in range(epochs):\n",
    "    batch_xs, batch_ys = mnist.train.next_batch(batch_size)\n",
    "    sess.run(train_step, feed_dict={X: batch_xs, y: batch_ys, keep_prob: 0.75})\n",
    "    if epoch % display_step == 0:\n",
    "        train_cost = sess.run(cross_entropy, feed_dict={X: batch_xs, y: batch_ys, keep_prob: 0.75})\n",
    "        test_acc = sess.run(acc, feed_dict=test_holder)\n",
    "        print(\"epoch %d, test_acc: %.4f, train_cost: %.4f\" % (epoch, test_acc, train_cost))"
   ]
  },
  {
   "cell_type": "code",
   "execution_count": null,
   "metadata": {},
   "outputs": [],
   "source": []
  }
 ],
 "metadata": {
  "kernelspec": {
   "display_name": "Python 3",
   "language": "python",
   "name": "python3"
  },
  "language_info": {
   "codemirror_mode": {
    "name": "ipython",
    "version": 3
   },
   "file_extension": ".py",
   "mimetype": "text/x-python",
   "name": "python",
   "nbconvert_exporter": "python",
   "pygments_lexer": "ipython3",
   "version": "3.6.5"
  }
 },
 "nbformat": 4,
 "nbformat_minor": 2
}
