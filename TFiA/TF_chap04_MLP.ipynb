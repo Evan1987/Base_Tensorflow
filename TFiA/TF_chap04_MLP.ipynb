{
 "cells": [
  {
   "cell_type": "code",
   "execution_count": 2,
   "metadata": {},
   "outputs": [],
   "source": [
    "import tensorflow as tf\n",
    "from tensorflow.examples.tutorials.mnist import input_data"
   ]
  },
  {
   "cell_type": "code",
   "execution_count": 3,
   "metadata": {},
   "outputs": [
    {
     "name": "stdout",
     "output_type": "stream",
     "text": [
      "Extracting MNIST_data/train-images-idx3-ubyte.gz\n",
      "Extracting MNIST_data/train-labels-idx1-ubyte.gz\n",
      "Extracting MNIST_data/t10k-images-idx3-ubyte.gz\n",
      "Extracting MNIST_data/t10k-labels-idx1-ubyte.gz\n"
     ]
    }
   ],
   "source": [
    "mnist = input_data.read_data_sets(\"MNIST_data/\", one_hot=True)"
   ]
  },
  {
   "cell_type": "code",
   "execution_count": 4,
   "metadata": {},
   "outputs": [],
   "source": [
    "sess = tf.InteractiveSession()"
   ]
  },
  {
   "cell_type": "code",
   "execution_count": 5,
   "metadata": {},
   "outputs": [],
   "source": [
    "# 初始参数设置\n",
    "in_units = 784\n",
    "h1_units = 300\n",
    "w1 = tf.Variable(tf.truncated_normal(shape=[h1_units, in_units], stddev=0.1))\n",
    "b1 = tf.Variable(tf.zeros([h1_units, 1]))\n",
    "w2 = tf.Variable(tf.zeros([10, h1_units]))\n",
    "b2 = tf.Variable(tf.zeros([10, 1]))"
   ]
  },
  {
   "cell_type": "code",
   "execution_count": 6,
   "metadata": {},
   "outputs": [],
   "source": [
    "# 占位变量： X -> 输入， keep_prob -> dropout的参数，保留节点的比率\n",
    "X = tf.placeholder(dtype=tf.float32, shape=[in_units, None])\n",
    "keep_prob = tf.placeholder(dtype=tf.float32)"
   ]
  },
  {
   "cell_type": "code",
   "execution_count": 20,
   "metadata": {},
   "outputs": [],
   "source": [
    "# 过程隐层运算定义\n",
    "hidden1 = tf.nn.relu(w1 @ X + b1)  # shape: h1_units * m\n",
    "hidden1_drop = tf.nn.dropout(hidden1, keep_prob=keep_prob)  # dropout randomly on each ele\n",
    "y = tf.nn.softmax(w2 @ hidden1_drop + b2)  # shape: 10 * m"
   ]
  },
  {
   "cell_type": "code",
   "execution_count": 21,
   "metadata": {},
   "outputs": [],
   "source": [
    "# 损失函数定义\n",
    "y_ = tf.placeholder(dtype=tf.float32, shape=[10, None])  # shape: 10 * m\n",
    "cost = tf.reduce_mean(-tf.reduce_sum(tf.multiply(y_, tf.log(y)), axis=0))  # cross entropy"
   ]
  },
  {
   "cell_type": "code",
   "execution_count": 29,
   "metadata": {},
   "outputs": [],
   "source": [
    "# 训练及评估过程定义\n",
    "train_step = tf.train.AdagradOptimizer(learning_rate=0.3).minimize(cost)\n",
    "correct_prediction = tf.equal(tf.argmax(y, axis=0), tf.argmax(y_, axis=0))\n",
    "acc = tf.reduce_mean(tf.cast(correct_prediction, dtype=tf.float32))"
   ]
  },
  {
   "cell_type": "code",
   "execution_count": 31,
   "metadata": {},
   "outputs": [
    {
     "name": "stdout",
     "output_type": "stream",
     "text": [
      "epoch 0 test_acc: 0.6603\n",
      "epoch 100 test_acc: 0.9280\n",
      "epoch 200 test_acc: 0.9422\n",
      "epoch 300 test_acc: 0.9505\n",
      "epoch 400 test_acc: 0.9563\n",
      "epoch 500 test_acc: 0.9570\n",
      "epoch 600 test_acc: 0.9594\n",
      "epoch 700 test_acc: 0.9616\n",
      "epoch 800 test_acc: 0.9636\n",
      "epoch 900 test_acc: 0.9655\n",
      "epoch 1000 test_acc: 0.9651\n",
      "epoch 1100 test_acc: 0.9686\n",
      "epoch 1200 test_acc: 0.9682\n",
      "epoch 1300 test_acc: 0.9697\n",
      "epoch 1400 test_acc: 0.9706\n",
      "epoch 1500 test_acc: 0.9726\n",
      "epoch 1600 test_acc: 0.9723\n",
      "epoch 1700 test_acc: 0.9734\n",
      "epoch 1800 test_acc: 0.9730\n",
      "epoch 1900 test_acc: 0.9714\n",
      "epoch 2000 test_acc: 0.9732\n",
      "epoch 2100 test_acc: 0.9731\n",
      "epoch 2200 test_acc: 0.9736\n",
      "epoch 2300 test_acc: 0.9752\n",
      "epoch 2400 test_acc: 0.9758\n",
      "epoch 2500 test_acc: 0.9766\n",
      "epoch 2600 test_acc: 0.9753\n",
      "epoch 2700 test_acc: 0.9760\n",
      "epoch 2800 test_acc: 0.9754\n",
      "epoch 2900 test_acc: 0.9754\n",
      "epoch 3000 test_acc: 0.9764\n"
     ]
    }
   ],
   "source": [
    "# 实施训练及预测\n",
    "tf.global_variables_initializer().run()\n",
    "test_holder = {X: mnist.test.images.T, y_: mnist.test.labels.T, keep_prob: 1.0}\n",
    "display_step = 100\n",
    "test_acc_list = []\n",
    "for i in range(3001):\n",
    "    batch_xs, batch_ys = mnist.train.next_batch(100)\n",
    "    sess.run(train_step, feed_dict={X: batch_xs.T, y_: batch_ys.T, keep_prob: 0.75})\n",
    "    if i % display_step == 0:\n",
    "        test_acc = sess.run(acc, feed_dict=test_holder)\n",
    "        test_acc_list.append(test_acc)\n",
    "        print(\"epoch %d test_acc: %.4f\" % (i, test_acc))        "
   ]
  },
  {
   "cell_type": "code",
   "execution_count": 32,
   "metadata": {},
   "outputs": [],
   "source": [
    "import matplotlib.pyplot as plt"
   ]
  },
  {
   "cell_type": "code",
   "execution_count": 33,
   "metadata": {},
   "outputs": [
    {
     "data": {
      "image/png": "[encoded data removed]",
      "text/plain": [
       "<matplotlib.figure.Figure at 0x2533779b780>"
      ]
     },
     "metadata": {},
     "output_type": "display_data"
    }
   ],
   "source": [
    "plt.plot(test_acc_list)\n",
    "plt.show()"
   ]
  }
 ],
 "metadata": {
  "kernelspec": {
   "display_name": "Python 3",
   "language": "python",
   "name": "python3"
  },
  "language_info": {
   "codemirror_mode": {
    "name": "ipython",
    "version": 3
   },
   "file_extension": ".py",
   "mimetype": "text/x-python",
   "name": "python",
   "nbconvert_exporter": "python",
   "pygments_lexer": "ipython3",
   "version": "3.6.1"
  }
 },
 "nbformat": 4,
 "nbformat_minor": 2
}
