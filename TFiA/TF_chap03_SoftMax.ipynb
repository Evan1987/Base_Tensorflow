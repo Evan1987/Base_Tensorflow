{
 "cells": [
  {
   "cell_type": "code",
   "execution_count": 2,
   "metadata": {},
   "outputs": [],
   "source": [
    "import numpy as np\n",
    "import tensorflow as tf\n",
    "from tensorflow.examples.tutorials.mnist import input_data\n",
    "from pylab import imshow\n",
    "import matplotlib.pyplot as plt"
   ]
  },
  {
   "cell_type": "code",
   "execution_count": 3,
   "metadata": {},
   "outputs": [
    {
     "name": "stdout",
     "output_type": "stream",
     "text": [
      "Extracting MNIST_data/train-images-idx3-ubyte.gz\n",
      "Extracting MNIST_data/train-labels-idx1-ubyte.gz\n",
      "Extracting MNIST_data/t10k-images-idx3-ubyte.gz\n",
      "Extracting MNIST_data/t10k-labels-idx1-ubyte.gz\n"
     ]
    }
   ],
   "source": [
    "mnist = input_data.read_data_sets(\"MNIST_data/\", one_hot=True)"
   ]
  },
  {
   "cell_type": "code",
   "execution_count": 4,
   "metadata": {},
   "outputs": [
    {
     "name": "stdout",
     "output_type": "stream",
     "text": [
      "(55000, 784) (55000, 10)\n",
      "(10000, 784) (10000, 10)\n",
      "(5000, 784) (5000, 10)\n"
     ]
    }
   ],
   "source": [
    "# 训练样本: 容量55000， 每个元素为 784（28*28）图片\n",
    "# 训练样本标签： One-Hot的标签，容量 55000， 标签维度为 10 （is 0-9）\n",
    "print(mnist.train.images.shape, mnist.train.labels.shape)\n",
    "# 测试样本: 容量10000， 每个元素为 784（28*28）图片\n",
    "print(mnist.test.images.shape, mnist.test.labels.shape)\n",
    "# 验证样本： 容量5000， 每个元素为 784 (28*28) 图片\n",
    "print(mnist.validation.images.shape, mnist.validation.labels.shape)"
   ]
  },
  {
   "cell_type": "code",
   "execution_count": 56,
   "metadata": {},
   "outputs": [
    {
     "name": "stdout",
     "output_type": "stream",
     "text": [
      "the image number is:  7\n"
     ]
    },
    {
     "data": {
      "image/png": "[encoded data removed]",
      "text/plain": [
       "<matplotlib.figure.Figure at 0x1e7d9fc2a58>"
      ]
     },
     "metadata": {},
     "output_type": "display_data"
    },
    {
     "name": "stdout",
     "output_type": "stream",
     "text": [
      "the image number is:  3\n"
     ]
    },
    {
     "data": {
      "image/png": "[encoded data removed]",
      "text/plain": [
       "<matplotlib.figure.Figure at 0x1e7d9ee4be0>"
      ]
     },
     "metadata": {},
     "output_type": "display_data"
    },
    {
     "name": "stdout",
     "output_type": "stream",
     "text": [
      "the image number is:  4\n"
     ]
    },
    {
     "data": {
      "image/png": "[encoded data removed]",
      "text/plain": [
       "<matplotlib.figure.Figure at 0x1e7d861f4a8>"
      ]
     },
     "metadata": {},
     "output_type": "display_data"
    }
   ],
   "source": [
    "data = mnist.train.images\n",
    "labels = mnist.train.labels\n",
    "for i in range(0, 3):\n",
    "    l = labels[i, ].argmax()\n",
    "    imshow(data[i,].reshape(28, 28))\n",
    "    print(\"the image number is: \", l)\n",
    "    plt.show()"
   ]
  },
  {
   "cell_type": "code",
   "execution_count": 12,
   "metadata": {},
   "outputs": [],
   "source": [
    "sess = tf.InteractiveSession()\n",
    "x = tf.placeholder(dtype=tf.float32, shape=[None, 784], name=\"x\") # None 表示 不限制\n",
    "W = tf.Variable(tf.zeros([784, 10]), name=\"W\")\n",
    "b = tf.Variable(tf.zeros([1, 10]), name=\"b\")\n",
    "\n",
    "y = tf.nn.softmax(tf.matmul(x, W) + b)\n",
    "\n",
    "# 定义损失函数， 这里用的是交叉熵（即对数损失）\n",
    "y_ = tf.placeholder(dtype=tf.float32, shape=[None, 10], name=\"y_true\") # y_:真实的标签"
   ]
  },
  {
   "cell_type": "code",
   "execution_count": 13,
   "metadata": {},
   "outputs": [],
   "source": [
    "writer = tf.summary.FileWriter(\"F:/board/softmax\", sess.graph)\n",
    "writer.close()"
   ]
  },
  {
   "cell_type": "code",
   "execution_count": 14,
   "metadata": {},
   "outputs": [],
   "source": [
    "cross_entropy = tf.reduce_mean(-tf.reduce_sum(y_ * tf.log(y), axis=1))"
   ]
  },
  {
   "cell_type": "code",
   "execution_count": 16,
   "metadata": {},
   "outputs": [],
   "source": [
    "# 定义参数学习器(梯度下降)， 并设定学习率为 0.5\n",
    "train_step = tf.train.GradientDescentOptimizer(0.5).minimize(cross_entropy)\n",
    "# 全局参数初始化，此时变量数据（tf.Variable）才有初始值\n",
    "tf.global_variables_initializer().run()   "
   ]
  },
  {
   "cell_type": "code",
   "execution_count": 17,
   "metadata": {},
   "outputs": [],
   "source": [
    "# 分批次喂数据（SGD），如果一次性全部给数据则是 batch-GD\n",
    "iter_num = 1000\n",
    "batch_size = 100\n",
    "for i in range(iter_num):\n",
    "    batch_xs, batch_ys = mnist.train.next_batch(batch_size=batch_size)\n",
    "    sess.run(train_step, feed_dict={x: batch_xs, y_: batch_ys})"
   ]
  },
  {
   "cell_type": "code",
   "execution_count": 18,
   "metadata": {},
   "outputs": [],
   "source": [
    "# 定义预测准确率的计算方法\n",
    "# 对应比较标签的准确性， 注意这里 y_仍然是 placeholder，需要喂数\n",
    "correct_prediction = tf.equal(tf.argmax(input=y, axis=1), tf.argmax(input=y_, axis=1))\n",
    "# 由于比较之后，对应每行为 bool， 因此为了统计计算准确数量， 需要 cast成 float\n",
    "acc = tf.reduce_mean(tf.cast(correct_prediction, tf.float32))"
   ]
  },
  {
   "cell_type": "code",
   "execution_count": 25,
   "metadata": {
    "scrolled": true
   },
   "outputs": [
    {
     "name": "stdout",
     "output_type": "stream",
     "text": [
      "0.9172\n"
     ]
    }
   ],
   "source": [
    "# 为了计算 acc，需要解决两个 placeholder：x 和 y_\n",
    "output = acc.eval(feed_dict={x: mnist.test.images, y_: mnist.test.labels})\n",
    "print(output)"
   ]
  },
  {
   "cell_type": "code",
   "execution_count": 13,
   "metadata": {},
   "outputs": [],
   "source": [
    "sess.close()"
   ]
  }
 ],
 "metadata": {
  "kernelspec": {
   "display_name": "Python 3",
   "language": "python",
   "name": "python3"
  },
  "language_info": {
   "codemirror_mode": {
    "name": "ipython",
    "version": 3
   },
   "file_extension": ".py",
   "mimetype": "text/x-python",
   "name": "python",
   "nbconvert_exporter": "python",
   "pygments_lexer": "ipython3",
   "version": "3.6.5"
  }
 },
 "nbformat": 4,
 "nbformat_minor": 2
}
