{
 "cells": [
  {
   "cell_type": "code",
   "execution_count": 9,
   "metadata": {},
   "outputs": [],
   "source": [
    "import tensorflow as tf\n",
    "import numpy as np\n",
    "from tensorflow.examples.tutorials.mnist import input_data"
   ]
  },
  {
   "cell_type": "code",
   "execution_count": 3,
   "metadata": {},
   "outputs": [
    {
     "name": "stdout",
     "output_type": "stream",
     "text": [
      "Extracting MNIST_data/train-images-idx3-ubyte.gz\n",
      "Extracting MNIST_data/train-labels-idx1-ubyte.gz\n",
      "Extracting MNIST_data/t10k-images-idx3-ubyte.gz\n",
      "Extracting MNIST_data/t10k-labels-idx1-ubyte.gz\n"
     ]
    }
   ],
   "source": [
    "mnist = input_data.read_data_sets(\"MNIST_data/\", one_hot=True)"
   ]
  },
  {
   "cell_type": "code",
   "execution_count": 16,
   "metadata": {},
   "outputs": [],
   "source": [
    "sess = tf.InteractiveSession()"
   ]
  },
  {
   "cell_type": "code",
   "execution_count": 6,
   "metadata": {},
   "outputs": [],
   "source": [
    "# 卷积函数\n",
    "# strides: NHWC 长度为 4 的列表： [batch, height, width, channel]\n",
    "def conv2d(x, W, stride=1, padding='SAME'):\n",
    "    strides = np.r_[1, stride, stride, 1].tolist()\n",
    "    return tf.nn.conv2d(x, W, strides=strides, padding=padding)\n",
    "\n",
    "# 最大池化函数：2*2像素 -> 1*1,保留灰度最大的像素\n",
    "# strides\n",
    "def max_pool(x, size=2, stride=2, padding='SAME'):\n",
    "    ksize = np.r_[1, size, size, 1].tolist()\n",
    "    strides = np.r_[1, stride, stride, 1].tolist()\n",
    "    return tf.nn.max_pool(x, ksize=ksize, strides=strides, padding=padding)"
   ]
  },
  {
   "cell_type": "code",
   "execution_count": 7,
   "metadata": {},
   "outputs": [],
   "source": [
    "X = tf.placeholder(dtype=tf.float32, shape=[784, None])\n",
    "y_ = tf.placeholder(dtype=tf.float32, shape=[10, None])\n",
    "# 变回具有空间结构信息的 tensor， 其中 -1表示样本数量不确定\n",
    "x_image = tf.reshape(tensor=X, shape=[-1, 28, 28, 1])"
   ]
  },
  {
   "cell_type": "code",
   "execution_count": 10,
   "metadata": {},
   "outputs": [],
   "source": [
    "# layer1(conv1)  input: 28 * 28 * 1 -> output: 14 * 14 * 32\n",
    "conv_shape = [5, 5, 1, 32]\n",
    "conv_stride = 1\n",
    "pool_size = 2\n",
    "pool_stride = 2\n",
    "## conv1 input:28 * 28 * 1 -> output: 28 * 28 * 32\n",
    "W_conv1 = weight_variables(conv_shape)  # output:32\n",
    "b_conv1 = bias_variable([conv_shape[-1]])\n",
    "h_conv1 = tf.nn.relu(conv2d(x_image, W_conv1, stride=conv_stride, padding='SAME') + b_conv1)\n",
    "## pool1 input: 28 * 28 * 32 -> output: 14 * 14 * 32\n",
    "h_pool1 = max_pool(h_conv1, size=pool_size, stride=pool_stride, padding='SAME')\n",
    "\n",
    "# layer2(conv2) input: 14 * 14 * 32 -> output: 7 * 7 * 64\n",
    "conv_shape = [5, 5, 32, 64]\n",
    "conv_stride = 1\n",
    "pool_size = 2\n",
    "pool_stride = 2\n",
    "## conv2 input: 14 * 14 * 32 -> output: 14 * 14 * 32\n",
    "W_conv2 = weight_variables(conv_shape)\n",
    "b_conv2 = bias_variable([conv_shape[-1]])\n",
    "h_conv2 = tf.nn.relu(conv2d(h_pool1, W_conv2, stride=conv_stride, padding='SAME') + b_conv2)\n",
    "## pool2 input: 14 * 14 * 64 -> 7 * 7 * 64\n",
    "h_pool2 = max_pool(h_conv2, size=pool_size, stride=pool_stride, padding='SAME')\n",
    "\n",
    "# layer3(FC1) input: 7 * 7 * 64 -> output: 1024 * m\n",
    "h_pool2_flat = tf.reshape(tensor=h_pool2, shape=[7 * 7 * 64, -1])\n",
    "W_fc1 = weight_variables(shape=[1024, 7 * 7 * 64])\n",
    "b_fc1 = bias_variable(shape=[1024, 1])\n",
    "h_fc1 = tf.nn.relu(W_fc1 @ h_pool2_flat + b_fc1)\n",
    "\n",
    "# DropOut: input: 1024 * m -> output: 1024 * m\n",
    "keep_prob = tf.placeholder(dtype=tf.float32)\n",
    "h_fc1_drop = tf.nn.dropout(x=h_fc1, keep_prob=keep_prob)\n",
    "\n",
    "# softmax: input: 1024 * m -> output: 10 * m\n",
    "W_fc2 = weight_variables(shape=[10, 1024])\n",
    "b_fc2 = bias_variable(shape=[10, 1])\n",
    "y_conv = tf.nn.softmax(W_fc2 @ h_fc1_drop + b_fc2)\n",
    "\n",
    "# 损失函数计算\n",
    "cost = tf.reduce_mean(-tf.reduce_sum(tf.multiply(y_, tf.log(y_conv)), axis=0))\n",
    "# 训练的优化器设定\n",
    "train_step = tf.train.AdamOptimizer(learning_rate=1e-2).minimize(cost)\n",
    "# 其他预测指标的设定\n",
    "correct_prediction = tf.equal(tf.argmax(y_conv, axis=0), tf.argmax(y_, axis=0))\n",
    "acc = tf.reduce_mean(tf.cast(correct_prediction, dtype=tf.float32))"
   ]
  },
  {
   "cell_type": "code",
   "execution_count": 13,
   "metadata": {},
   "outputs": [],
   "source": [
    "file_writer = tf.summary.FileWriter(logdir=\"F:/tmp/\", graph=sess.graph)"
   ]
  },
  {
   "cell_type": "code",
   "execution_count": null,
   "metadata": {},
   "outputs": [],
   "source": [
    "tf.global_variables_initializer().run()\n",
    "test_holder = {X: mnist.test.images.T, y_: mnist.test.labels.T, keep_prob: 1.0}\n",
    "display_step = 100\n",
    "test_acc_list = []\n",
    "for i in range(20000):\n",
    "    batch_xs, batch_ys = mnist.train.next_batch(50)\n",
    "    sess.run(train_step, feed_dict={X: batch_xs.T, y_: batch_ys.T, keep_prob: 0.75})\n",
    "    if i % display_step == 0:\n",
    "        test_acc = acc.eval(feed_dict=test_holder)\n",
    "        test_acc_list.append(test_acc)\n",
    "        print(\"epoch %d, test_acc: %.4f\" % (i, test_acc))"
   ]
  }
 ],
 "metadata": {
  "kernelspec": {
   "display_name": "Python 3",
   "language": "python",
   "name": "python3"
  },
  "language_info": {
   "codemirror_mode": {
    "name": "ipython",
    "version": 3
   },
   "file_extension": ".py",
   "mimetype": "text/x-python",
   "name": "python",
   "nbconvert_exporter": "python",
   "pygments_lexer": "ipython3",
   "version": "3.6.5"
  }
 },
 "nbformat": 4,
 "nbformat_minor": 2
}
